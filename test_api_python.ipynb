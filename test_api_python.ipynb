{
 "cells": [
  {
   "cell_type": "code",
   "execution_count": 1,
   "metadata": {},
   "outputs": [],
   "source": [
    "import json\n",
    "import requests"
   ]
  },
  {
   "cell_type": "code",
   "execution_count": 6,
   "metadata": {},
   "outputs": [],
   "source": [
    "from IPython.display import HTML"
   ]
  },
  {
   "cell_type": "code",
   "execution_count": 2,
   "metadata": {},
   "outputs": [],
   "source": [
    "#Funcion para probar llamadas a api\n",
    "def call(url_request):\n",
    "    payload=''\n",
    "    headers = {\n",
    "    'Cache-Control': \"no-cache\",\n",
    "    'Postman-Token': \"651938c1-380a-4ed8-94ca-6e9cfec7f19d,60efd533-2192-44a5-96eb-4229de335b0e\"\n",
    "    }\n",
    "    response = requests.request(\"GET\", url_request, data = payload, headers=headers)\n",
    "    return json.loads(response.text)"
   ]
  },
  {
   "cell_type": "code",
   "execution_count": 8,
   "metadata": {},
   "outputs": [],
   "source": [
    "#Se creara un html con las imagenes obtenidas\n",
    "fotos = call(\"https://jsonplaceholder.typicode.com/photos\")[0:7]"
   ]
  },
  {
   "cell_type": "code",
   "execution_count": 9,
   "metadata": {},
   "outputs": [],
   "source": [
    "html=''\n",
    "for foto in fotos:\n",
    "    html += \"<img src=\\\"{}\\\">\\n\".format(foto[\"url\"])"
   ]
  },
  {
   "cell_type": "code",
   "execution_count": 10,
   "metadata": {},
   "outputs": [],
   "source": [
    "with open(\"output.html\",\"w\") as f:\n",
    "    f.write(html)"
   ]
  },
  {
   "cell_type": "code",
   "execution_count": 11,
   "metadata": {},
   "outputs": [
    {
     "data": {
      "text/html": [
       "<img src=\"https://via.placeholder.com/600/92c952\">\n",
       "<img src=\"https://via.placeholder.com/600/771796\">\n",
       "<img src=\"https://via.placeholder.com/600/24f355\">\n",
       "<img src=\"https://via.placeholder.com/600/d32776\">\n",
       "<img src=\"https://via.placeholder.com/600/f66b97\">\n",
       "<img src=\"https://via.placeholder.com/600/56a8c2\">\n",
       "<img src=\"https://via.placeholder.com/600/b0f7cc\">\n"
      ],
      "text/plain": [
       "<IPython.core.display.HTML object>"
      ]
     },
     "execution_count": 11,
     "metadata": {},
     "output_type": "execute_result"
    }
   ],
   "source": [
    "HTML(filename='output.html')"
   ]
  },
  {
   "cell_type": "code",
   "execution_count": null,
   "metadata": {},
   "outputs": [],
   "source": []
  }
 ],
 "metadata": {
  "kernelspec": {
   "display_name": "Python 3",
   "language": "python",
   "name": "python3"
  },
  "language_info": {
   "codemirror_mode": {
    "name": "ipython",
    "version": 3
   },
   "file_extension": ".py",
   "mimetype": "text/x-python",
   "name": "python",
   "nbconvert_exporter": "python",
   "pygments_lexer": "ipython3",
   "version": "3.6.8"
  }
 },
 "nbformat": 4,
 "nbformat_minor": 2
}
