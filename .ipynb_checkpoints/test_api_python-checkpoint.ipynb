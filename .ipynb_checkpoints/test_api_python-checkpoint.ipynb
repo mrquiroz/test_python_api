{
 "cells": [
  {
   "cell_type": "code",
   "execution_count": 1,
   "metadata": {},
   "outputs": [],
   "source": [
    "import json\n",
    "import requests"
   ]
  },
  {
   "cell_type": "code",
   "execution_count": 6,
   "metadata": {},
   "outputs": [],
   "source": [
    "from IPython.display import HTML"
   ]
  },
  {
   "cell_type": "code",
   "execution_count": 32,
   "metadata": {},
   "outputs": [],
   "source": [
    "#Funcion para probar llamadas a api\n",
    "def peticion(verbo,url_request,payload=\"\"):\n",
    "    headers = {\n",
    "    'Cache-Control': \"no-cache\",\n",
    "    'Postman-Token': \"651938c1-380a-4ed8-94ca-6e9cfec7f19d,60efd533-2192-44a5-96eb-4229de335b0e\"\n",
    "    }\n",
    "    response = requests.request(verbo, url_request, data = payload, headers=headers)\n",
    "    return json.loads(response.text)"
   ]
  },
  {
   "cell_type": "code",
   "execution_count": 28,
   "metadata": {},
   "outputs": [],
   "source": [
    "#Probando el metodo GET\n",
    "fotos = peticion(\"GET\",\"https://jsonplaceholder.typicode.com/photos\")[0:7]"
   ]
  },
  {
   "cell_type": "code",
   "execution_count": 29,
   "metadata": {},
   "outputs": [],
   "source": [
    "html=''\n",
    "for foto in fotos:\n",
    "    html += \"<img src=\\\"{}\\\">\\n\".format(foto[\"url\"])"
   ]
  },
  {
   "cell_type": "code",
   "execution_count": 30,
   "metadata": {},
   "outputs": [],
   "source": [
    "with open(\"output.html\",\"w\") as f:\n",
    "    f.write(html)"
   ]
  },
  {
   "cell_type": "code",
   "execution_count": 31,
   "metadata": {},
   "outputs": [
    {
     "data": {
      "text/html": [
       "<img src=\"https://via.placeholder.com/600/92c952\">\n",
       "<img src=\"https://via.placeholder.com/600/771796\">\n",
       "<img src=\"https://via.placeholder.com/600/24f355\">\n",
       "<img src=\"https://via.placeholder.com/600/d32776\">\n",
       "<img src=\"https://via.placeholder.com/600/f66b97\">\n",
       "<img src=\"https://via.placeholder.com/600/56a8c2\">\n",
       "<img src=\"https://via.placeholder.com/600/b0f7cc\">\n"
      ],
      "text/plain": [
       "<IPython.core.display.HTML object>"
      ]
     },
     "execution_count": 31,
     "metadata": {},
     "output_type": "execute_result"
    }
   ],
   "source": [
    "HTML(filename='output.html')"
   ]
  },
  {
   "cell_type": "code",
   "execution_count": 34,
   "metadata": {},
   "outputs": [
    {
     "data": {
      "text/plain": [
       "{'id': 101}"
      ]
     },
     "execution_count": 34,
     "metadata": {},
     "output_type": "execute_result"
    }
   ],
   "source": [
    "#Probando el metodo POST\n",
    "payload = \"{\\n\\t\\\"title\\\":\\\"Post 101\\\",\\n\\t\\\"body\\\":\\\"Este es un post\\\",\\n\\t\\\"userid\\\":1\\n}\"\n",
    "peticion(\"POST\",\"https://jsonplaceholder.typicode.com/posts\",payload)"
   ]
  },
  {
   "cell_type": "code",
   "execution_count": 37,
   "metadata": {},
   "outputs": [],
   "source": [
    "bitcoin = peticion(\"GET\",\"https://api.coindesk.com/v1/bpi/historical/close.json\")"
   ]
  },
  {
   "cell_type": "code",
   "execution_count": 62,
   "metadata": {},
   "outputs": [
    {
     "data": {
      "text/plain": [
       "{'2019-04-25': 5160.64,\n",
       " '2019-04-26': 5241.025,\n",
       " '2019-04-27': 5247.24,\n",
       " '2019-04-28': 5266.3467,\n",
       " '2019-04-29': 5259.6267,\n",
       " '2019-04-30': 5378.6183,\n",
       " '2019-05-01': 5423.66,\n",
       " '2019-05-02': 5503.3017,\n",
       " '2019-05-03': 5775.8817,\n",
       " '2019-05-04': 5876.01,\n",
       " '2019-05-05': 5823.795,\n",
       " '2019-05-06': 5799.6167,\n",
       " '2019-05-07': 5861.5917,\n",
       " '2019-05-08': 6029.08,\n",
       " '2019-05-09': 6187.28,\n",
       " '2019-05-10': 6375.5617,\n",
       " '2019-05-11': 7184.64,\n",
       " '2019-05-12': 6979.1317,\n",
       " '2019-05-13': 7801.2967,\n",
       " '2019-05-14': 7978.01,\n",
       " '2019-05-15': 8180.425,\n",
       " '2019-05-16': 7875.1633,\n",
       " '2019-05-17': 7376.8533,\n",
       " '2019-05-18': 7259.5067,\n",
       " '2019-05-19': 8189.3767,\n",
       " '2019-05-20': 7995.965,\n",
       " '2019-05-21': 7945.045,\n",
       " '2019-05-22': 7623.5133,\n",
       " '2019-05-23': 7875.9967,\n",
       " '2019-05-24': 7998.22,\n",
       " '2019-05-25': 8063.9483}"
      ]
     },
     "execution_count": 62,
     "metadata": {},
     "output_type": "execute_result"
    }
   ],
   "source": [
    "bitcoin['bpi']"
   ]
  },
  {
   "cell_type": "code",
   "execution_count": 63,
   "metadata": {},
   "outputs": [
    {
     "data": {
      "text/plain": [
       "['2019-04-25',\n",
       " '2019-04-26',\n",
       " '2019-04-27',\n",
       " '2019-04-28',\n",
       " '2019-04-29',\n",
       " '2019-04-30',\n",
       " '2019-05-01',\n",
       " '2019-05-02',\n",
       " '2019-05-03',\n",
       " '2019-05-04',\n",
       " '2019-05-05',\n",
       " '2019-05-06',\n",
       " '2019-05-07']"
      ]
     },
     "execution_count": 63,
     "metadata": {},
     "output_type": "execute_result"
    }
   ],
   "source": [
    "#Filtrando valores con un iterador\n",
    "fechas = [k for k,v in bitcoin['bpi'].items() if v < 6000]\n",
    "fechas"
   ]
  },
  {
   "cell_type": "code",
   "execution_count": null,
   "metadata": {},
   "outputs": [],
   "source": []
  }
 ],
 "metadata": {
  "kernelspec": {
   "display_name": "Python 3",
   "language": "python",
   "name": "python3"
  },
  "language_info": {
   "codemirror_mode": {
    "name": "ipython",
    "version": 3
   },
   "file_extension": ".py",
   "mimetype": "text/x-python",
   "name": "python",
   "nbconvert_exporter": "python",
   "pygments_lexer": "ipython3",
   "version": "3.6.8"
  }
 },
 "nbformat": 4,
 "nbformat_minor": 2
}
